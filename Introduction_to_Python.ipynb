{
  "nbformat": 4,
  "nbformat_minor": 0,
  "metadata": {
    "colab": {
      "provenance": [],
      "authorship_tag": "ABX9TyMexE9EXwlvz310r/nWQ0YK",
      "include_colab_link": true
    },
    "kernelspec": {
      "name": "python3",
      "display_name": "Python 3"
    },
    "language_info": {
      "name": "python"
    }
  },
  "cells": [
    {
      "cell_type": "markdown",
      "metadata": {
        "id": "view-in-github",
        "colab_type": "text"
      },
      "source": [
        "<a href=\"https://colab.research.google.com/github/AugustineSengodayan/CPE-21A-PLD-1-2/blob/main/Introduction_to_Python.ipynb\" target=\"_parent\"><img src=\"https://colab.research.google.com/assets/colab-badge.svg\" alt=\"Open In Colab\"/></a>"
      ]
    },
    {
      "cell_type": "markdown",
      "source": [
        "#Indentation"
      ],
      "metadata": {
        "id": "NAneuMHXUKj4"
      }
    },
    {
      "cell_type": "code",
      "source": [
        "if 5>3:\n",
        "  print(\"5 is greater than 3\")  #This is a comment madam <3"
      ],
      "metadata": {
        "colab": {
          "base_uri": "https://localhost:8080/"
        },
        "id": "AaPbaBySUP1M",
        "outputId": "69c5e8c6-7261-4fa6-ba07-24b75f5a8616"
      },
      "execution_count": null,
      "outputs": [
        {
          "output_type": "stream",
          "name": "stdout",
          "text": [
            "5 is greater than 3\n"
          ]
        }
      ]
    },
    {
      "cell_type": "code",
      "source": [
        "print(\"KATRINA, KATRINA, KATRINA!!\")"
      ],
      "metadata": {
        "colab": {
          "base_uri": "https://localhost:8080/"
        },
        "id": "9SDRgs3oUsOA",
        "outputId": "d5c11380-efc9-4cf9-e54b-344f5bbd4c50"
      },
      "execution_count": 39,
      "outputs": [
        {
          "output_type": "stream",
          "name": "stdout",
          "text": [
            "KATRINA, KATRINA, KATRINA!!\n"
          ]
        }
      ]
    },
    {
      "cell_type": "markdown",
      "source": [
        "Variable Declaration"
      ],
      "metadata": {
        "id": "fIPAsU_BVCvE"
      }
    },
    {
      "cell_type": "code",
      "source": [
        "#variable with a signle value\n",
        "x=5\n",
        "y=3\n",
        "if x>y:\n",
        "  print(\"x is greater than y\")\n",
        "else:\n",
        "  print(\"y is greater than x\")\n",
        "\n",
        "#variable with multiple values\n",
        "\n",
        "a,b = 1,2\n",
        "print(\"The value of a is:\",a)\n",
        "print(\"The value of a is:\",b)\n",
        "\n",
        "#multiple variables with single value\n",
        "x = y = z = \"slay\"\n",
        "print(x)\n",
        "print(y)\n",
        "print(z)"
      ],
      "metadata": {
        "colab": {
          "base_uri": "https://localhost:8080/"
        },
        "id": "ouOCW19HVHpb",
        "outputId": "cd1aa8f0-0679-48aa-f8e9-3f4e2163c67a"
      },
      "execution_count": 38,
      "outputs": [
        {
          "output_type": "stream",
          "name": "stdout",
          "text": [
            "x is greater than y\n",
            "The value of a is: 1\n",
            "The value of a is: 2\n",
            "slay\n",
            "slay\n",
            "slay\n"
          ]
        }
      ]
    },
    {
      "cell_type": "markdown",
      "source": [
        "Output variable"
      ],
      "metadata": {
        "id": "VMhoIrOBZimz"
      }
    },
    {
      "cell_type": "code",
      "source": [
        "d = 'a slay moment'\n",
        "print('Python programming is '+d)"
      ],
      "metadata": {
        "colab": {
          "base_uri": "https://localhost:8080/"
        },
        "id": "_IE9MkHRZl1c",
        "outputId": "82f60f15-8ad0-4f20-f8a9-8a098b8e6ca4"
      },
      "execution_count": 37,
      "outputs": [
        {
          "output_type": "stream",
          "name": "stdout",
          "text": [
            "Python programming is a slay moment\n"
          ]
        }
      ]
    },
    {
      "cell_type": "markdown",
      "source": [
        "#Casting and Type() function"
      ],
      "metadata": {
        "id": "f_6ZE9q4Wt9U"
      }
    },
    {
      "cell_type": "code",
      "source": [
        "f = int(4)  #integer\n",
        "g=float(4)  #decimal/fractional\n",
        "print(f)\n",
        "print(g)\n",
        "\n",
        "print(type(f))\n",
        "print(type(g))"
      ],
      "metadata": {
        "colab": {
          "base_uri": "https://localhost:8080/"
        },
        "id": "LCwYdENQWzU0",
        "outputId": "f2518c5b-aa42-486c-d83b-214c0258ca3f"
      },
      "execution_count": 41,
      "outputs": [
        {
          "output_type": "stream",
          "name": "stdout",
          "text": [
            "4\n",
            "4.0\n",
            "<class 'int'>\n",
            "<class 'float'>\n"
          ]
        }
      ]
    },
    {
      "cell_type": "markdown",
      "source": [
        "Double quote or single quote"
      ],
      "metadata": {
        "id": "iK-xt88jXel5"
      }
    },
    {
      "cell_type": "code",
      "source": [
        "name = \"Augustine\"\n",
        "name1 = \"Sengodayan\"\n",
        "\n",
        "print(name)\n",
        "print(name1)"
      ],
      "metadata": {
        "colab": {
          "base_uri": "https://localhost:8080/"
        },
        "id": "5mH7SM51XiZ_",
        "outputId": "83b15a78-4ae4-4140-a850-b943d8026236"
      },
      "execution_count": 40,
      "outputs": [
        {
          "output_type": "stream",
          "name": "stdout",
          "text": [
            "Augustine\n",
            "Sengodayan\n"
          ]
        }
      ]
    }
  ]
}