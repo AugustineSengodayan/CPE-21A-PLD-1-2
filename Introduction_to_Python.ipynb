{
  "nbformat": 4,
  "nbformat_minor": 0,
  "metadata": {
    "colab": {
      "provenance": [],
      "authorship_tag": "ABX9TyOFQP9Aw5ltb8vRZS8vb720",
      "include_colab_link": true
    },
    "kernelspec": {
      "name": "python3",
      "display_name": "Python 3"
    },
    "language_info": {
      "name": "python"
    }
  },
  "cells": [
    {
      "cell_type": "markdown",
      "metadata": {
        "id": "view-in-github",
        "colab_type": "text"
      },
      "source": [
        "<a href=\"https://colab.research.google.com/github/AugustineSengodayan/CPE-21A-PLD-1-2/blob/main/Introduction_to_Python.ipynb\" target=\"_parent\"><img src=\"https://colab.research.google.com/assets/colab-badge.svg\" alt=\"Open In Colab\"/></a>"
      ]
    },
    {
      "cell_type": "markdown",
      "source": [
        "#Indentation"
      ],
      "metadata": {
        "id": "NAneuMHXUKj4"
      }
    },
    {
      "cell_type": "code",
      "source": [
        "if 5>3:\n",
        "  print(\"5 is greater than 3\")  #This is a comment madam <3"
      ],
      "metadata": {
        "colab": {
          "base_uri": "https://localhost:8080/"
        },
        "id": "AaPbaBySUP1M",
        "outputId": "69c5e8c6-7261-4fa6-ba07-24b75f5a8616"
      },
      "execution_count": null,
      "outputs": [
        {
          "output_type": "stream",
          "name": "stdout",
          "text": [
            "5 is greater than 3\n"
          ]
        }
      ]
    },
    {
      "cell_type": "code",
      "source": [
        "print(\"KATRINA, KATRINA, KATRINA!!\")"
      ],
      "metadata": {
        "colab": {
          "base_uri": "https://localhost:8080/"
        },
        "id": "9SDRgs3oUsOA",
        "outputId": "b94438e0-d8b3-41a1-9848-c021f3523242"
      },
      "execution_count": 35,
      "outputs": [
        {
          "output_type": "stream",
          "name": "stdout",
          "text": [
            "KATRINA, KATRINA, KATRINA!!\n"
          ]
        }
      ]
    },
    {
      "cell_type": "markdown",
      "source": [
        "Variable Declaration"
      ],
      "metadata": {
        "id": "fIPAsU_BVCvE"
      }
    },
    {
      "cell_type": "code",
      "source": [
        "#variable with a signle value\n",
        "x=5\n",
        "y=3\n",
        "if x>y:\n",
        "  print(\"x is greater than y\")\n",
        "else:\n",
        "  print(\"y is greater than x\")\n",
        "\n",
        "#variable with multiple values\n",
        "\n",
        "a,b = 1,2\n",
        "print(\"The value of a is:\",a)\n",
        "print(\"The value of a is:\",b)\n",
        "\n",
        "#multiple variables with single value\n",
        "x = y = z = \"slay\"\n",
        "print(x)\n",
        "print(y)\n",
        "print(z)"
      ],
      "metadata": {
        "colab": {
          "base_uri": "https://localhost:8080/"
        },
        "id": "ouOCW19HVHpb",
        "outputId": "2ea30b04-2aa0-42d8-eec8-eead23cf409c"
      },
      "execution_count": 34,
      "outputs": [
        {
          "output_type": "stream",
          "name": "stdout",
          "text": [
            "x is greater than y\n",
            "The value of a is: 1\n",
            "The value of a is: 2\n",
            "slay\n",
            "slay\n",
            "slay\n"
          ]
        }
      ]
    },
    {
      "cell_type": "markdown",
      "source": [
        "Output variable"
      ],
      "metadata": {
        "id": "VMhoIrOBZimz"
      }
    },
    {
      "cell_type": "code",
      "source": [
        "d = 'a slay moment'\n",
        "print('Python programming is'+d)"
      ],
      "metadata": {
        "colab": {
          "base_uri": "https://localhost:8080/"
        },
        "id": "_IE9MkHRZl1c",
        "outputId": "3a2b798a-f20c-49ba-cd4b-58d58205b588"
      },
      "execution_count": 33,
      "outputs": [
        {
          "output_type": "stream",
          "name": "stdout",
          "text": [
            "Python programming a slay moment\n"
          ]
        }
      ]
    },
    {
      "cell_type": "markdown",
      "source": [
        "#Casting and Type() function"
      ],
      "metadata": {
        "id": "f_6ZE9q4Wt9U"
      }
    },
    {
      "cell_type": "code",
      "source": [
        "f = int(4)  #integer\n",
        "g=float(4)  #decimal/fractional\n",
        "print(f)\n",
        "print(g)\n",
        "\n",
        "print(type(f))\n",
        "print(type(g))"
      ],
      "metadata": {
        "colab": {
          "base_uri": "https://localhost:8080/"
        },
        "id": "LCwYdENQWzU0",
        "outputId": "d0eb018d-36d3-4a52-a2a6-d105e92097f9"
      },
      "execution_count": 32,
      "outputs": [
        {
          "output_type": "stream",
          "name": "stdout",
          "text": [
            "4\n",
            "4.0\n",
            "<class 'int'>\n",
            "<class 'float'>\n"
          ]
        }
      ]
    },
    {
      "cell_type": "markdown",
      "source": [
        "Double quote or single quote"
      ],
      "metadata": {
        "id": "iK-xt88jXel5"
      }
    },
    {
      "cell_type": "code",
      "source": [
        "name = \"Augustine\"\n",
        "name1 = \"Sengodayan\"\n",
        "\n",
        "print(name)\n",
        "print(name1)"
      ],
      "metadata": {
        "colab": {
          "base_uri": "https://localhost:8080/"
        },
        "id": "5mH7SM51XiZ_",
        "outputId": "cc1b335f-94ee-4100-982c-cf118365c3e8"
      },
      "execution_count": 31,
      "outputs": [
        {
          "output_type": "stream",
          "name": "stdout",
          "text": [
            "Augustine\n",
            "Sengodayan\n"
          ]
        }
      ]
    }
  ]
}