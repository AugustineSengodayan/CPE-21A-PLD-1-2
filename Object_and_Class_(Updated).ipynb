{
  "nbformat": 4,
  "nbformat_minor": 0,
  "metadata": {
    "colab": {
      "provenance": [],
      "authorship_tag": "ABX9TyPzfZZdDvolVlMq6C0jOl8b",
      "include_colab_link": true
    },
    "kernelspec": {
      "name": "python3",
      "display_name": "Python 3"
    },
    "language_info": {
      "name": "python"
    }
  },
  "cells": [
    {
      "cell_type": "markdown",
      "metadata": {
        "id": "view-in-github",
        "colab_type": "text"
      },
      "source": [
        "<a href=\"https://colab.research.google.com/github/AugustineSengodayan/CPE-21A-PLD-1-2/blob/main/Object_and_Class_(Updated).ipynb\" target=\"_parent\"><img src=\"https://colab.research.google.com/assets/colab-badge.svg\" alt=\"Open In Colab\"/></a>"
      ]
    },
    {
      "cell_type": "code",
      "source": [
        "class Person:\n",
        "  def __init__(self,name,age,birthday):\n",
        "    self.name = name\n",
        "    self.age = age\n",
        "    self.birthday = birthday\n",
        "\n",
        "  def info(self):\n",
        "    return \"My personal info is here\"\n",
        "\n",
        "class Student(Person):\n",
        "    pass\n",
        "\n",
        "person = Person(\"August\", 18, \"13th October, 2004\")\n",
        "\n",
        "print(person.name)\n",
        "print(person.age)\n",
        "print(person.birthday)\n",
        "print(person.info())"
      ],
      "metadata": {
        "colab": {
          "base_uri": "https://localhost:8080/"
        },
        "id": "_SYB3kJiasaT",
        "outputId": "820f6928-62a6-4bb0-f8c3-1453d710f5d8"
      },
      "execution_count": 8,
      "outputs": [
        {
          "output_type": "stream",
          "name": "stdout",
          "text": [
            "August\n",
            "18\n",
            "13th October, 2004\n",
            "My personal info is here\n"
          ]
        }
      ]
    },
    {
      "cell_type": "markdown",
      "source": [
        "Use Shape as parent class, Rectangle as child class with"
      ],
      "metadata": {
        "id": "GRedIs4Jqn69"
      }
    },
    {
      "cell_type": "code",
      "source": [
        "class Shape:\n",
        "  def __init__(shape,length,width):\n",
        "    shape.length = length\n",
        "    shape.width = width\n",
        "\n",
        "class Rectangle(Shape):\n",
        "  pass\n",
        "\n",
        "rectangle = Rectangle(10,20)\n",
        "\n",
        "print(rectangle.length)\n",
        "print(rectangle.width)"
      ],
      "metadata": {
        "colab": {
          "base_uri": "https://localhost:8080/"
        },
        "id": "wSQXQ7Doeg09",
        "outputId": "e548d66d-d5d0-4585-9f55-b5597e23f3ef"
      },
      "execution_count": 1,
      "outputs": [
        {
          "output_type": "stream",
          "name": "stdout",
          "text": [
            "10\n",
            "20\n"
          ]
        }
      ]
    },
    {
      "cell_type": "markdown",
      "source": [
        "Use Perimeter() and Area() as methods to compute for the length and width attributes perimeter and area of the rectangle"
      ],
      "metadata": {
        "id": "v_NqbPUEqd8I"
      }
    },
    {
      "cell_type": "code",
      "source": [
        "class Shape:\n",
        "  def __init__(shape,length,width):\n",
        "    shape.length = length\n",
        "    shape.width = width\n",
        "\n",
        "  def Area(shape):\n",
        "    return rectangle.length*rectangle.width\n",
        "  \n",
        "  def Perimeter(shape):\n",
        "    return (rectangle.length+rectangle.width)*2\n",
        "\n",
        "class Rectangle(Shape):\n",
        "  pass\n",
        "\n",
        "rectangle = Rectangle(10,20)\n",
        "\n",
        "print(rectangle.Area())\n",
        "print(rectangle.Perimeter())"
      ],
      "metadata": {
        "colab": {
          "base_uri": "https://localhost:8080/"
        },
        "id": "qYJQV702g5we",
        "outputId": "9ed5d94e-8725-4121-a344-0dada4e18968"
      },
      "execution_count": 2,
      "outputs": [
        {
          "output_type": "stream",
          "name": "stdout",
          "text": [
            "200\n",
            "60\n"
          ]
        }
      ]
    }
  ]
}