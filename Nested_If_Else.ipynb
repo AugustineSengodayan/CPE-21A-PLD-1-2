{
  "nbformat": 4,
  "nbformat_minor": 0,
  "metadata": {
    "colab": {
      "provenance": [],
      "authorship_tag": "ABX9TyOa5k+OjhPEgja3Qx+TI6xn",
      "include_colab_link": true
    },
    "kernelspec": {
      "name": "python3",
      "display_name": "Python 3"
    },
    "language_info": {
      "name": "python"
    }
  },
  "cells": [
    {
      "cell_type": "markdown",
      "metadata": {
        "id": "view-in-github",
        "colab_type": "text"
      },
      "source": [
        "<a href=\"https://colab.research.google.com/github/AugustineSengodayan/CPE-21A-PLD-1-2/blob/main/Nested_If_Else.ipynb\" target=\"_parent\"><img src=\"https://colab.research.google.com/assets/colab-badge.svg\" alt=\"Open In Colab\"/></a>"
      ]
    },
    {
      "cell_type": "markdown",
      "source": [
        "Nested If Else"
      ],
      "metadata": {
        "id": "kulxBF5RdqDI"
      }
    },
    {
      "cell_type": "code",
      "source": [
        "print(\"Enter a number\")\n",
        "x = int(input())\n",
        "if x>10:\n",
        "  print(\"above 10\")\n",
        "  if x<20:\n",
        "    print(\"below 20\")\n",
        "  else:\n",
        "    print(\"above 20\")\n",
        "    if x<30:\n",
        "      print(\"below 30\")\n",
        "    else:\n",
        "      print(\"above 30\")\n",
        "      if x<40:\n",
        "        print(\"below 40\")\n",
        "      else:\n",
        "        print(\"above 40\")\n",
        "        if x<50:\n",
        "          print(\"below 50\")\n",
        "        else:\n",
        "          print(\"above 50\")"
      ],
      "metadata": {
        "colab": {
          "base_uri": "https://localhost:8080/"
        },
        "id": "8FdrmP6VcAHD",
        "outputId": "76cf4d36-ca98-4368-ec60-69fa8fe8c89b"
      },
      "execution_count": 1,
      "outputs": [
        {
          "output_type": "stream",
          "name": "stdout",
          "text": [
            "Enter a number\n",
            "51\n",
            "above 10\n",
            "above 20\n",
            "above 30\n",
            "above 40\n",
            "above 50\n"
          ]
        }
      ]
    },
    {
      "cell_type": "markdown",
      "source": [
        "Example 1"
      ],
      "metadata": {
        "id": "uJMNyLGHyMD7"
      }
    },
    {
      "cell_type": "code",
      "source": [
        "print(\"Enter age\")\n",
        "x = int(input())\n",
        "if x>=18:\n",
        "  print(\"qualified to vote\")\n",
        "else:\n",
        "  print(\"not qualified to vote\")"
      ],
      "metadata": {
        "colab": {
          "base_uri": "https://localhost:8080/"
        },
        "id": "nUlxUIXZyOJV",
        "outputId": "d51433be-cefd-44ba-db28-fe1360e6a68a"
      },
      "execution_count": 86,
      "outputs": [
        {
          "output_type": "stream",
          "name": "stdout",
          "text": [
            "Enter age\n",
            "18\n",
            "qualified to vote\n"
          ]
        }
      ]
    },
    {
      "cell_type": "markdown",
      "source": [
        "Example 2"
      ],
      "metadata": {
        "id": "O1ud2Hy0zENA"
      }
    },
    {
      "cell_type": "code",
      "source": [
        "print(\"Enter number\")\n",
        "x = int(input())\n",
        "if x>0:\n",
        "  print(\"POSITIVE\")\n",
        "elif x<0:\n",
        "  print(\"NEGATIVE\")\n",
        "else:\n",
        "  print(\"ZERO\")"
      ],
      "metadata": {
        "colab": {
          "base_uri": "https://localhost:8080/"
        },
        "id": "YAkBM6bGzGry",
        "outputId": "0adbb89e-270b-45a4-f831-8fabd5a8969e"
      },
      "execution_count": 95,
      "outputs": [
        {
          "output_type": "stream",
          "name": "stdout",
          "text": [
            "Enter number\n",
            "0\n",
            "ZERO\n"
          ]
        }
      ]
    },
    {
      "cell_type": "markdown",
      "source": [
        "Example 3"
      ],
      "metadata": {
        "id": "ia_GXop07nDC"
      }
    },
    {
      "cell_type": "code",
      "source": [
        "print(\"Enter Grade\")\n",
        "x = int(input())\n",
        "a = 0\n",
        "if x>74:\n",
        "  print(\"Passed\")\n",
        "elif x==74:\n",
        "  print(\"Remedial\")\n",
        "elif x<0:\n",
        "  print(\"Not accepted\")\n",
        "else:\n",
        "  print(\"Failed\")"
      ],
      "metadata": {
        "colab": {
          "base_uri": "https://localhost:8080/"
        },
        "id": "R6nlmL1SzW6v",
        "outputId": "f9e64a7c-8501-4124-e5b7-ad2322954eff"
      },
      "execution_count": 106,
      "outputs": [
        {
          "output_type": "stream",
          "name": "stdout",
          "text": [
            "Enter Grade\n",
            "73\n",
            "Failed\n"
          ]
        }
      ]
    }
  ]
}