{
  "nbformat": 4,
  "nbformat_minor": 0,
  "metadata": {
    "colab": {
      "provenance": [],
      "authorship_tag": "ABX9TyM6Hxnmrk6fGUXFU11QfSsZ",
      "include_colab_link": true
    },
    "kernelspec": {
      "name": "python3",
      "display_name": "Python 3"
    },
    "language_info": {
      "name": "python"
    }
  },
  "cells": [
    {
      "cell_type": "markdown",
      "metadata": {
        "id": "view-in-github",
        "colab_type": "text"
      },
      "source": [
        "<a href=\"https://colab.research.google.com/github/AugustineSengodayan/CPE-21A-PLD-1-2/blob/main/Fundamentals_of_Computing_in_Python.ipynb\" target=\"_parent\"><img src=\"https://colab.research.google.com/assets/colab-badge.svg\" alt=\"Open In Colab\"/></a>"
      ]
    },
    {
      "cell_type": "markdown",
      "source": [
        "# **Variables and Data Types**"
      ],
      "metadata": {
        "id": "LMcg-U7ZyXCy"
      }
    },
    {
      "cell_type": "code",
      "source": [
        "#Numbers\n",
        "varNum = 123\n",
        "pi = 3.14159"
      ],
      "metadata": {
        "id": "UnvENtFhkquS"
      },
      "execution_count": 37,
      "outputs": []
    },
    {
      "cell_type": "code",
      "source": [
        "#Strings\n",
        "varString = \"Hello World!\"\n",
        "varText = \"This is a String\""
      ],
      "metadata": {
        "id": "4pqI6g86wqWl"
      },
      "execution_count": 36,
      "outputs": []
    },
    {
      "cell_type": "code",
      "source": [
        "#Lists\n",
        "varList= [\"abc\", 123]"
      ],
      "metadata": {
        "id": "erAhVz2Gwr5G"
      },
      "execution_count": 35,
      "outputs": []
    },
    {
      "cell_type": "code",
      "source": [
        "#Tuples\n",
        "varTuple = (\"abc\", 123, \"Hello\")\n",
        "print(varTuple[1])"
      ],
      "metadata": {
        "colab": {
          "base_uri": "https://localhost:8080/"
        },
        "id": "4Gy5Vye_wtfS",
        "outputId": "40e8fb7d-d5ae-4903-87bc-4e6f64092ff0"
      },
      "execution_count": 34,
      "outputs": [
        {
          "output_type": "stream",
          "name": "stdout",
          "text": [
            "123\n"
          ]
        }
      ]
    },
    {
      "cell_type": "code",
      "source": [
        "#Dictionaries\n",
        "varDict = {\"first\":1, \"2\":\"2nd\", 3:var}\n",
        "print(varDict[\"first\"])"
      ],
      "metadata": {
        "colab": {
          "base_uri": "https://localhost:8080/"
        },
        "id": "AG3qQnG6wu2w",
        "outputId": "a34df33c-b4b2-4bcc-b39d-8ce03fe7c15b"
      },
      "execution_count": 33,
      "outputs": [
        {
          "output_type": "stream",
          "name": "stdout",
          "text": [
            "1\n"
          ]
        }
      ]
    },
    {
      "cell_type": "markdown",
      "source": [
        "# **Arithmetic**"
      ],
      "metadata": {
        "id": "gorU8wYYyJat"
      }
    },
    {
      "cell_type": "code",
      "source": [
        "#Addition\n",
        "a = 5 + 3\n",
        "print(a)"
      ],
      "metadata": {
        "colab": {
          "base_uri": "https://localhost:8080/"
        },
        "id": "2SZOnfYAsskF",
        "outputId": "48373564-5150-48dc-e506-5805906936a4"
      },
      "execution_count": 32,
      "outputs": [
        {
          "output_type": "stream",
          "name": "stdout",
          "text": [
            "8\n"
          ]
        }
      ]
    },
    {
      "cell_type": "code",
      "source": [
        "#Subraction\n",
        "b = 5 - 3\n",
        "print(b)"
      ],
      "metadata": {
        "colab": {
          "base_uri": "https://localhost:8080/"
        },
        "id": "pmQjCUTpw50g",
        "outputId": "dac8f561-30ee-4470-b8f2-d76a3f7ac74d"
      },
      "execution_count": 31,
      "outputs": [
        {
          "output_type": "stream",
          "name": "stdout",
          "text": [
            "2\n"
          ]
        }
      ]
    },
    {
      "cell_type": "code",
      "source": [
        "#Multiplication\n",
        "c = 5 * 3\n",
        "print(c)"
      ],
      "metadata": {
        "colab": {
          "base_uri": "https://localhost:8080/"
        },
        "id": "YitG9AFew9DB",
        "outputId": "069c19f6-52fa-49e9-d325-fc4c72431a7d"
      },
      "execution_count": 30,
      "outputs": [
        {
          "output_type": "stream",
          "name": "stdout",
          "text": [
            "15\n"
          ]
        }
      ]
    },
    {
      "cell_type": "code",
      "source": [
        "#Exponent\n",
        "d = 5 ** 3\n",
        "print(d)"
      ],
      "metadata": {
        "colab": {
          "base_uri": "https://localhost:8080/"
        },
        "id": "l44ttL1mxEJE",
        "outputId": "73198bed-224d-4aae-ab34-3a9cccb55214"
      },
      "execution_count": 29,
      "outputs": [
        {
          "output_type": "stream",
          "name": "stdout",
          "text": [
            "125\n"
          ]
        }
      ]
    },
    {
      "cell_type": "code",
      "source": [
        "#Division\n",
        "e = 5 / 3\n",
        "print(e)\n",
        "f = 5 % 3\n",
        "print(f)\n",
        "g = 5 // 3\n",
        "print(g)"
      ],
      "metadata": {
        "colab": {
          "base_uri": "https://localhost:8080/"
        },
        "id": "9v7xGuHmxHY9",
        "outputId": "a7a30929-aa5e-44ee-eceb-15818ad4dd3f"
      },
      "execution_count": 28,
      "outputs": [
        {
          "output_type": "stream",
          "name": "stdout",
          "text": [
            "1.6666666666666667\n",
            "2\n",
            "1\n"
          ]
        }
      ]
    },
    {
      "cell_type": "code",
      "source": [
        "#Increment\n",
        "h = 5\n",
        "h += 1\n",
        "print(h)"
      ],
      "metadata": {
        "colab": {
          "base_uri": "https://localhost:8080/"
        },
        "id": "NjX5Qi5zxWnq",
        "outputId": "1d470fb8-4a64-4cb8-ff45-2e0b52968e3d"
      },
      "execution_count": 27,
      "outputs": [
        {
          "output_type": "stream",
          "name": "stdout",
          "text": [
            "6\n"
          ]
        }
      ]
    },
    {
      "cell_type": "code",
      "source": [
        "#decrement\n",
        "i = 5\n",
        "i -= 1\n",
        "print(i)"
      ],
      "metadata": {
        "colab": {
          "base_uri": "https://localhost:8080/"
        },
        "id": "XTEUTs47xeFg",
        "outputId": "c44e2cd6-632f-4339-83b7-d1bac47aac75"
      },
      "execution_count": 26,
      "outputs": [
        {
          "output_type": "stream",
          "name": "stdout",
          "text": [
            "4\n"
          ]
        }
      ]
    },
    {
      "cell_type": "code",
      "source": [
        "#String Concatenation\n",
        "j = \"Hello \" + \"World!\"\n",
        "print(j)"
      ],
      "metadata": {
        "colab": {
          "base_uri": "https://localhost:8080/"
        },
        "id": "J0_0hBAAxruT",
        "outputId": "ab1c7672-51c3-4336-d5ba-e8609b5775d8"
      },
      "execution_count": 25,
      "outputs": [
        {
          "output_type": "stream",
          "name": "stdout",
          "text": [
            "Hello World!\n"
          ]
        }
      ]
    },
    {
      "cell_type": "code",
      "source": [
        "#Complex Expressions\n",
        "k = 3 + 5 - 6 * 2 / 4\n",
        "print(k)"
      ],
      "metadata": {
        "colab": {
          "base_uri": "https://localhost:8080/"
        },
        "id": "KY5FH5Ewx5vA",
        "outputId": "d2484dd0-bc60-4e37-f45e-02a05c1776df"
      },
      "execution_count": 24,
      "outputs": [
        {
          "output_type": "stream",
          "name": "stdout",
          "text": [
            "5.0\n"
          ]
        }
      ]
    },
    {
      "cell_type": "markdown",
      "source": [
        "# **Conditional Statements**"
      ],
      "metadata": {
        "id": "BmMrA506yi4Q"
      }
    },
    {
      "cell_type": "code",
      "source": [
        "#Boolean Conditions\n",
        "x = True\n",
        "if x:\n",
        "  print(\"var x is True\")\n",
        "else:\n",
        "  print(\"var x is False\")"
      ],
      "metadata": {
        "colab": {
          "base_uri": "https://localhost:8080/"
        },
        "id": "bo7_wbrCzTBf",
        "outputId": "191881ab-0644-4ca2-b56c-e231689d558b"
      },
      "execution_count": 23,
      "outputs": [
        {
          "output_type": "stream",
          "name": "stdout",
          "text": [
            "var x is True\n"
          ]
        }
      ]
    },
    {
      "cell_type": "code",
      "source": [
        "#String Conditions\n",
        "x = \"Hello World!\"\n",
        "if x == \"Hello World!\":\n",
        "  print(\"var x is Hello World!\")\n",
        "else:\n",
        "  print(\"var x is not Hello World!\")"
      ],
      "metadata": {
        "colab": {
          "base_uri": "https://localhost:8080/"
        },
        "id": "xIzU5rXBzqs1",
        "outputId": "e8a52fdd-b63a-40d4-86b7-379574387a02"
      },
      "execution_count": 22,
      "outputs": [
        {
          "output_type": "stream",
          "name": "stdout",
          "text": [
            "var x is Hello World!\n"
          ]
        }
      ]
    },
    {
      "cell_type": "code",
      "source": [
        "#Numerical Conditions\n",
        "x = 10\n",
        "if x == \"10\":\n",
        "  print(\"var x is a string\")\n",
        "elif x == 10:\n",
        "  print(\"var x is an integer\")\n",
        "else:\n",
        "  print(\"var x is none of the above\")"
      ],
      "metadata": {
        "colab": {
          "base_uri": "https://localhost:8080/"
        },
        "id": "5UnrYAOZ0Msp",
        "outputId": "70b84583-8e62-4c50-897f-382db704556b"
      },
      "execution_count": 21,
      "outputs": [
        {
          "output_type": "stream",
          "name": "stdout",
          "text": [
            "var x is an integer\n"
          ]
        }
      ]
    },
    {
      "cell_type": "markdown",
      "source": [
        "# **Loops**"
      ],
      "metadata": {
        "id": "CMeaXodH06_m"
      }
    },
    {
      "cell_type": "code",
      "source": [
        "#For Loops\n",
        "for var in range(0, 5, 2):\n",
        "  print(var)"
      ],
      "metadata": {
        "colab": {
          "base_uri": "https://localhost:8080/"
        },
        "id": "7ZUUqDZt012C",
        "outputId": "3ffee9f9-8493-4322-8fcb-2dd364e68d13"
      },
      "execution_count": 20,
      "outputs": [
        {
          "output_type": "stream",
          "name": "stdout",
          "text": [
            "0\n",
            "2\n",
            "4\n"
          ]
        }
      ]
    },
    {
      "cell_type": "code",
      "source": [
        "#While Loops\n",
        "var = 0\n",
        "while var < 5:\n",
        "  print(var)\n",
        "  var += 2"
      ],
      "metadata": {
        "colab": {
          "base_uri": "https://localhost:8080/"
        },
        "id": "AFTQKJxI1MMe",
        "outputId": "f8a97e5d-62f3-41e5-92cc-b9f1a3687c26"
      },
      "execution_count": 19,
      "outputs": [
        {
          "output_type": "stream",
          "name": "stdout",
          "text": [
            "0\n",
            "2\n",
            "4\n"
          ]
        }
      ]
    },
    {
      "cell_type": "code",
      "source": [
        "#Nested Loops\n",
        "x = 0\n",
        "while x < 5:\n",
        "  for y in range(0, x):\n",
        "    print(y, end=\"\")\n",
        "  x += 1\n",
        "  print()"
      ],
      "metadata": {
        "colab": {
          "base_uri": "https://localhost:8080/"
        },
        "id": "g84e0bu01bSp",
        "outputId": "780701a7-3739-4c0c-c023-252d675bf6a1"
      },
      "execution_count": 18,
      "outputs": [
        {
          "output_type": "stream",
          "name": "stdout",
          "text": [
            "\n",
            "0\n",
            "01\n",
            "012\n",
            "0123\n"
          ]
        }
      ]
    },
    {
      "cell_type": "markdown",
      "source": [
        "# **Functions**"
      ],
      "metadata": {
        "id": "2OaCUaea2E_s"
      }
    },
    {
      "cell_type": "code",
      "source": [
        "#defining a function with a keyword\n",
        "def remainder(n, m):\n",
        "  while True:\n",
        "    if n - m < 0:\n",
        "      return n\n",
        "    else:\n",
        "      n = n - m \n",
        "\n",
        "remainder(10,4)"
      ],
      "metadata": {
        "colab": {
          "base_uri": "https://localhost:8080/"
        },
        "id": "UM3Lwb4e2Eeq",
        "outputId": "cd0aef34-c741-47a6-a60f-4b1e75a08c3a"
      },
      "execution_count": 17,
      "outputs": [
        {
          "output_type": "execute_result",
          "data": {
            "text/plain": [
              "2"
            ]
          },
          "metadata": {},
          "execution_count": 17
        }
      ]
    },
    {
      "cell_type": "markdown",
      "source": [
        "# **List**"
      ],
      "metadata": {
        "id": "loR7bz843YIb"
      }
    },
    {
      "cell_type": "code",
      "source": [
        "pi = 3.14159\n",
        "varList = [1, 2, \"A\", \"B\", \"Hello!\", pi]\n",
        "print(varList[0])"
      ],
      "metadata": {
        "colab": {
          "base_uri": "https://localhost:8080/"
        },
        "id": "JoZrM_yH3dXv",
        "outputId": "56c7e714-80dd-4dac-ab3e-27b8a9943742"
      },
      "execution_count": 16,
      "outputs": [
        {
          "output_type": "stream",
          "name": "stdout",
          "text": [
            "1\n"
          ]
        }
      ]
    },
    {
      "cell_type": "code",
      "source": [
        "pi = 3.14159\n",
        "varList = [1, 2, \"A\", \"B\", \"Hello!\", pi]\n",
        "print(varList[2])"
      ],
      "metadata": {
        "colab": {
          "base_uri": "https://localhost:8080/"
        },
        "id": "Ms5aOLIu4ahN",
        "outputId": "667a00e9-dee5-4f9b-f3b4-a0019c327589"
      },
      "execution_count": 15,
      "outputs": [
        {
          "output_type": "stream",
          "name": "stdout",
          "text": [
            "A\n"
          ]
        }
      ]
    },
    {
      "cell_type": "code",
      "source": [
        "pi = 3.14159\n",
        "varList = [1, 2, \"A\", \"B\", \"Hello!\", pi]\n",
        "print(varList[4])"
      ],
      "metadata": {
        "colab": {
          "base_uri": "https://localhost:8080/"
        },
        "id": "73hleBOQ4htX",
        "outputId": "5ca397f9-10b5-4a1e-e27c-c4fa768cdd0d"
      },
      "execution_count": 14,
      "outputs": [
        {
          "output_type": "stream",
          "name": "stdout",
          "text": [
            "Hello!\n"
          ]
        }
      ]
    },
    {
      "cell_type": "code",
      "source": [
        "pi = 3.14159\n",
        "varList = [1, 2, \"A\", \"B\", \"Hello!\", pi]\n",
        "print(varList[5])"
      ],
      "metadata": {
        "colab": {
          "base_uri": "https://localhost:8080/"
        },
        "id": "ixDCr7Xd4ngt",
        "outputId": "86127140-5628-4592-80e3-477afcfbc006"
      },
      "execution_count": 13,
      "outputs": [
        {
          "output_type": "stream",
          "name": "stdout",
          "text": [
            "3.14159\n"
          ]
        }
      ]
    },
    {
      "cell_type": "code",
      "source": [
        "#Adding data on the list\n",
        "pi = 3.14159\n",
        "varList = [1, 2, \"A\", \"B\", \"Hello!\", pi]\n",
        "varList.append(\"World!\")\n",
        "print(varList[6])"
      ],
      "metadata": {
        "colab": {
          "base_uri": "https://localhost:8080/"
        },
        "id": "RW8C3thS4ycu",
        "outputId": "01d82cab-0cb9-43c4-9865-d2eab41e4087"
      },
      "execution_count": 12,
      "outputs": [
        {
          "output_type": "stream",
          "name": "stdout",
          "text": [
            "World!\n"
          ]
        }
      ]
    },
    {
      "cell_type": "code",
      "source": [
        "#Removing a data on the List\n",
        "pi = 3.14159\n",
        "varList = [1, 2, \"A\", \"B\", \"Hello!\", pi]\n",
        "varList.append(\"World!\")\n",
        "varList.remove(pi)\n",
        "print(varList[5])"
      ],
      "metadata": {
        "colab": {
          "base_uri": "https://localhost:8080/"
        },
        "id": "FaR9pXBT5GDt",
        "outputId": "0b79b30c-697e-4421-b0e3-15351aa3e1f7"
      },
      "execution_count": 11,
      "outputs": [
        {
          "output_type": "stream",
          "name": "stdout",
          "text": [
            "World!\n"
          ]
        }
      ]
    },
    {
      "cell_type": "code",
      "source": [
        "#Counting the data on the list\n",
        "pi = 3.14159\n",
        "varList = [1, 2, \"A\", \"B\", \"Hello!\", pi]\n",
        "varList.append(\"World!\")\n",
        "len(varList)"
      ],
      "metadata": {
        "colab": {
          "base_uri": "https://localhost:8080/"
        },
        "id": "8XB79VYF60pT",
        "outputId": "e257e134-a5c4-41ba-d763-9803e945f06b"
      },
      "execution_count": 10,
      "outputs": [
        {
          "output_type": "execute_result",
          "data": {
            "text/plain": [
              "7"
            ]
          },
          "metadata": {},
          "execution_count": 10
        }
      ]
    },
    {
      "cell_type": "markdown",
      "source": [
        "# **Dictionaries**"
      ],
      "metadata": {
        "id": "0MfZLaAk7jB1"
      }
    },
    {
      "cell_type": "code",
      "source": [
        "var = \"Hello World!\"\n",
        "varDict = {\n",
        "    \"name\" : \"August\",\n",
        "    \"age\" : 18,\n",
        "    \"birthday\" : \"13th October 2004\",\n",
        "    \"color\" : [\"Black\", \"Blue\"],\n",
        "    \"prompt\" : var\n",
        "}\n",
        "print(varDict[\"name\"])"
      ],
      "metadata": {
        "colab": {
          "base_uri": "https://localhost:8080/"
        },
        "id": "6_calIR88aSO",
        "outputId": "34f44cd3-0a9e-4805-f79f-c65f76b8b546"
      },
      "execution_count": 9,
      "outputs": [
        {
          "output_type": "stream",
          "name": "stdout",
          "text": [
            "August\n"
          ]
        }
      ]
    },
    {
      "cell_type": "code",
      "source": [
        "var = \"Hello World!\"\n",
        "varDict = {\n",
        "    \"name\" : \"August\",\n",
        "    \"age\" : 18,\n",
        "    \"birthday\" : \"13th October 2004\",\n",
        "    \"color\" : [\"Black\", \"Blue\"],\n",
        "    \"prompt\" : var\n",
        "}\n",
        "print(varDict[\"age\"])"
      ],
      "metadata": {
        "colab": {
          "base_uri": "https://localhost:8080/"
        },
        "id": "0agNVpLw-A_Q",
        "outputId": "bca4d41e-a3ff-4f7b-b2c0-57dcb2f87fbd"
      },
      "execution_count": 8,
      "outputs": [
        {
          "output_type": "stream",
          "name": "stdout",
          "text": [
            "18\n"
          ]
        }
      ]
    },
    {
      "cell_type": "code",
      "source": [
        "var = \"Hello World!\"\n",
        "varDict = {\n",
        "    \"name\" : \"August\",\n",
        "    \"age\" : 18,\n",
        "    \"birthday\" : \"13th October 2004\",\n",
        "    \"color\" : [\"Black\", \"Blue\"],\n",
        "    \"prompt\" : var\n",
        "}\n",
        "print(varDict[\"color\"][0])\n",
        "print(varDict[\"color\"][1])"
      ],
      "metadata": {
        "colab": {
          "base_uri": "https://localhost:8080/"
        },
        "id": "quERnihs-Ixy",
        "outputId": "2a60a2a5-9084-4d98-e669-25a9d80ee8ab"
      },
      "execution_count": 7,
      "outputs": [
        {
          "output_type": "stream",
          "name": "stdout",
          "text": [
            "Black\n",
            "Blue\n"
          ]
        }
      ]
    },
    {
      "cell_type": "code",
      "source": [
        "var = \"Hello World!\"\n",
        "varDict = {\n",
        "    \"name\" : \"August\",\n",
        "    \"age\" : 18,\n",
        "    \"birthday\" : \"13th October 2004\",\n",
        "    \"color\" : [\"Black\", \"Blue\"],\n",
        "    \"prompt\" : var\n",
        "}\n",
        "print(varDict[\"prompt\"])"
      ],
      "metadata": {
        "colab": {
          "base_uri": "https://localhost:8080/"
        },
        "id": "Q_srhnhV_KMs",
        "outputId": "68dca967-2cd4-4dd6-f352-599dd5b5530f"
      },
      "execution_count": 6,
      "outputs": [
        {
          "output_type": "stream",
          "name": "stdout",
          "text": [
            "Hello World!\n"
          ]
        }
      ]
    },
    {
      "cell_type": "code",
      "source": [
        "var = \"Hello World!\"\n",
        "varDict = {\n",
        "    \"name\" : \"August\",\n",
        "    \"age\" : 18,\n",
        "    \"birthday\" : \"13th October 2004\",\n",
        "    \"color\" : [\"Black\", \"Blue\"],\n",
        "    \"prompt\" : var\n",
        "}\n",
        "len(varDict)"
      ],
      "metadata": {
        "colab": {
          "base_uri": "https://localhost:8080/"
        },
        "id": "bSY1UWJ8-g-l",
        "outputId": "9194db09-5988-44c0-dfd9-0110449862f5"
      },
      "execution_count": 5,
      "outputs": [
        {
          "output_type": "execute_result",
          "data": {
            "text/plain": [
              "5"
            ]
          },
          "metadata": {},
          "execution_count": 5
        }
      ]
    },
    {
      "cell_type": "markdown",
      "source": [
        "# **List Generators and Comprehension**"
      ],
      "metadata": {
        "id": "eZa352xy_SMm"
      }
    },
    {
      "cell_type": "code",
      "source": [
        "def gen_num_up_to(n):\n",
        "  num = 0\n",
        "  while num < n:\n",
        "    yield num\n",
        "    num += 1\n",
        "gen_num_up_to(5)\n",
        "\n",
        "varList = gen_num_up_to(5)\n",
        "print([var for var in varList])"
      ],
      "metadata": {
        "id": "BxmElDoR_kKS",
        "colab": {
          "base_uri": "https://localhost:8080/"
        },
        "outputId": "39900aa0-746b-486b-ec8e-3c9720b0f91c"
      },
      "execution_count": 2,
      "outputs": [
        {
          "output_type": "stream",
          "name": "stdout",
          "text": [
            "[0, 1, 2, 3, 4]\n"
          ]
        }
      ]
    },
    {
      "cell_type": "code",
      "source": [
        "def gen_num_up_to(n):\n",
        "  num = 0\n",
        "  while num < n:\n",
        "    yield num\n",
        "    num += 2\n",
        "\n",
        "varList = gen_num_up_to(5)\n",
        "print([var for var  in varList])"
      ],
      "metadata": {
        "colab": {
          "base_uri": "https://localhost:8080/"
        },
        "id": "-e9CnZvuVa-W",
        "outputId": "c7d69818-8fdc-420f-8533-616005320853"
      },
      "execution_count": 3,
      "outputs": [
        {
          "output_type": "stream",
          "name": "stdout",
          "text": [
            "[0, 2, 4]\n"
          ]
        }
      ]
    },
    {
      "cell_type": "code",
      "source": [
        "def gen_num_up_to(n):\n",
        "  num = 0\n",
        "  while num < n:\n",
        "    yield num\n",
        "    num += 2\n",
        "\n",
        "varList = range(0, 5, 2)\n",
        "print([var for var  in varList])"
      ],
      "metadata": {
        "colab": {
          "base_uri": "https://localhost:8080/"
        },
        "id": "Zr8IIFxmV7YS",
        "outputId": "f948eb01-5f55-4bce-9382-d0f1e4821319"
      },
      "execution_count": 4,
      "outputs": [
        {
          "output_type": "stream",
          "name": "stdout",
          "text": [
            "[0, 2, 4]\n"
          ]
        }
      ]
    },
    {
      "cell_type": "markdown",
      "source": [
        "# **Slicing**"
      ],
      "metadata": {
        "id": "e9fg7XALWIJp"
      }
    },
    {
      "cell_type": "code",
      "source": [
        "varList = [1, 2, 3, 4, 5, 6, 7, 8, 9, 10]\n",
        "print(varList[:5])"
      ],
      "metadata": {
        "colab": {
          "base_uri": "https://localhost:8080/"
        },
        "id": "ZYIGeK8GWOzA",
        "outputId": "b67610b0-73f9-4f8c-e559-8de45d0ea36f"
      },
      "execution_count": 43,
      "outputs": [
        {
          "output_type": "stream",
          "name": "stdout",
          "text": [
            "[1, 2, 3, 4, 5]\n"
          ]
        }
      ]
    },
    {
      "cell_type": "code",
      "source": [
        "varList = [1, 2, 3, 4, 5, 6, 7, 8, 9, 10]\n",
        "print(varList[5:])"
      ],
      "metadata": {
        "colab": {
          "base_uri": "https://localhost:8080/"
        },
        "id": "ufae6IZlZYEY",
        "outputId": "21a4e753-bb02-46f0-8526-8971140e66d1"
      },
      "execution_count": 42,
      "outputs": [
        {
          "output_type": "stream",
          "name": "stdout",
          "text": [
            "[6, 7, 8, 9, 10]\n"
          ]
        }
      ]
    },
    {
      "cell_type": "code",
      "source": [
        "varList = [1, 2, 3, 4, 5, 6, 7, 8, 9, 10]\n",
        "print(varList[:-2])"
      ],
      "metadata": {
        "colab": {
          "base_uri": "https://localhost:8080/"
        },
        "id": "dolkbjn4baEQ",
        "outputId": "84b6ac78-efae-4eb0-ba74-4f8528110957"
      },
      "execution_count": 44,
      "outputs": [
        {
          "output_type": "stream",
          "name": "stdout",
          "text": [
            "[1, 2, 3, 4, 5, 6, 7, 8]\n"
          ]
        }
      ]
    },
    {
      "cell_type": "code",
      "source": [
        "varList = [1, 2, 3, 4, 5, 6, 7, 8, 9, 10]\n",
        "print(varList[-2:])"
      ],
      "metadata": {
        "colab": {
          "base_uri": "https://localhost:8080/"
        },
        "id": "jKbtO8l7bfck",
        "outputId": "5dd602dd-036f-4367-b3d2-32f7f64b8039"
      },
      "execution_count": 45,
      "outputs": [
        {
          "output_type": "stream",
          "name": "stdout",
          "text": [
            "[9, 10]\n"
          ]
        }
      ]
    },
    {
      "cell_type": "code",
      "source": [
        "varList = [1, 2, 3, 4, 5, 6, 7, 8, 9, 10]\n",
        "print(varList[2:-2])"
      ],
      "metadata": {
        "colab": {
          "base_uri": "https://localhost:8080/"
        },
        "id": "FwEP2oU4bh17",
        "outputId": "5b3d875a-d740-4125-c290-ecd1bd4fe98b"
      },
      "execution_count": 46,
      "outputs": [
        {
          "output_type": "stream",
          "name": "stdout",
          "text": [
            "[3, 4, 5, 6, 7, 8]\n"
          ]
        }
      ]
    },
    {
      "cell_type": "code",
      "source": [
        "varList = [1, 2, 3, 4, 5, 6, 7, 8, 9, 10]\n",
        "print(varList[2:8:2])"
      ],
      "metadata": {
        "colab": {
          "base_uri": "https://localhost:8080/"
        },
        "id": "MOTBi8g7bk0L",
        "outputId": "1f12e95f-e629-4f88-8fa7-a6e344b51619"
      },
      "execution_count": 47,
      "outputs": [
        {
          "output_type": "stream",
          "name": "stdout",
          "text": [
            "[3, 5, 7]\n"
          ]
        }
      ]
    }
  ]
}