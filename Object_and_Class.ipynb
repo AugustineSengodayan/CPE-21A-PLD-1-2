{
  "nbformat": 4,
  "nbformat_minor": 0,
  "metadata": {
    "colab": {
      "provenance": [],
      "authorship_tag": "ABX9TyMfwgQf0tUGUsfz9YzYa7/4",
      "include_colab_link": true
    },
    "kernelspec": {
      "name": "python3",
      "display_name": "Python 3"
    },
    "language_info": {
      "name": "python"
    }
  },
  "cells": [
    {
      "cell_type": "markdown",
      "metadata": {
        "id": "view-in-github",
        "colab_type": "text"
      },
      "source": [
        "<a href=\"https://colab.research.google.com/github/AugustineSengodayan/CPE-21A-PLD-1-2/blob/main/Object_and_Class.ipynb\" target=\"_parent\"><img src=\"https://colab.research.google.com/assets/colab-badge.svg\" alt=\"Open In Colab\"/></a>"
      ]
    },
    {
      "cell_type": "code",
      "source": [
        "class Person:\n",
        "  def __init__(self,name,age,birthday):\n",
        "    self.name = name\n",
        "    self.age = age\n",
        "    self.birthday = birthday\n",
        "\n",
        "  def info(self):\n",
        "    return \"My personal info is here\"\n",
        "\n",
        "  class Student(Person):\n",
        "    pass\n",
        "\n",
        "person = Person(\"August\", 18, \"13th October, 2004\")\n",
        "\n",
        "print(person.name)\n",
        "print(person.age)\n",
        "print(person.birthday)\n",
        "print(person.info())"
      ],
      "metadata": {
        "colab": {
          "base_uri": "https://localhost:8080/"
        },
        "id": "_SYB3kJiasaT",
        "outputId": "08948e19-4073-4bc8-9d4c-6a67036e70ff"
      },
      "execution_count": 48,
      "outputs": [
        {
          "output_type": "stream",
          "name": "stdout",
          "text": [
            "August\n",
            "18\n",
            "13th October, 2004\n",
            "My personal info is here\n"
          ]
        }
      ]
    },
    {
      "cell_type": "markdown",
      "source": [
        "Use Shape as parent class, Rectangle as child class with"
      ],
      "metadata": {
        "id": "GRedIs4Jqn69"
      }
    },
    {
      "cell_type": "code",
      "source": [
        "class Shape:\n",
        "  def __init__(shape,length,width):\n",
        "    shape.length = length\n",
        "    shape.width = width\n",
        "\n",
        "class Rectangle(Shape):\n",
        "  pass\n",
        "\n",
        "rectangle = Rectangle(10,20)\n",
        "\n",
        "print(\"Length of the Rectangle is\",rectangle.length)\n",
        "print(\"Width of the Rectangle is\",rectangle.width)"
      ],
      "metadata": {
        "colab": {
          "base_uri": "https://localhost:8080/"
        },
        "id": "wSQXQ7Doeg09",
        "outputId": "804b1e52-8d34-40b0-8eae-06d6c8bf8335"
      },
      "execution_count": 47,
      "outputs": [
        {
          "output_type": "stream",
          "name": "stdout",
          "text": [
            "Length of the Rectangle is 10\n",
            "Width of the Rectangle is 20\n"
          ]
        }
      ]
    },
    {
      "cell_type": "markdown",
      "source": [
        "Use Perimeter() and Area() as methods to compute for the length and width attributes perimeter and area of the rectangle"
      ],
      "metadata": {
        "id": "v_NqbPUEqd8I"
      }
    },
    {
      "cell_type": "code",
      "source": [
        "class Shape:\n",
        "  def __init__(shape,length,width):\n",
        "    shape.length = length\n",
        "    shape.width = width\n",
        "\n",
        "class Rectangle(Shape):\n",
        "  pass\n",
        "\n",
        "rectangle = Rectangle(10,20)\n",
        "\n",
        "print(\"Area of the Rectangle is\",rectangle.length * rectangle.width)\n",
        "print(\"Perimeter of the Rectangle is\",(rectangle.length + rectangle.width)*2)"
      ],
      "metadata": {
        "colab": {
          "base_uri": "https://localhost:8080/"
        },
        "id": "qYJQV702g5we",
        "outputId": "77809d7e-8a97-4d08-fd45-2e648c7e2d51"
      },
      "execution_count": 50,
      "outputs": [
        {
          "output_type": "stream",
          "name": "stdout",
          "text": [
            "Area of the Rectangle is 200\n",
            "Perimeter of the Rectangle is 60\n"
          ]
        }
      ]
    }
  ]
}